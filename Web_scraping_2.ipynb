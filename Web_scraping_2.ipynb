{
 "cells": [
  {
   "cell_type": "code",
   "execution_count": 2,
   "id": "c03ea00e-50e3-486e-929f-7e0ab4bf00e2",
   "metadata": {},
   "outputs": [],
   "source": [
    "html = '<!DOCTYPE html>\\\n",
    "<html lang=\"en\">\\\n",
    "<head>\\\n",
    "    <meta charset=\"UTF-8\">\\\n",
    "    <meta name=\"viewport\" content=\"width=device-width, initial-scale=1.0\">\\\n",
    "    <title>Sample HTML Page</title>\\\n",
    "</head>\\\n",
    "<body>\\\n",
    "    <p>This is the first paragraph.</p>\\\n",
    "    <p>This is the second paragraph.</p>\\\n",
    "    <p>This is the third paragraph.</p>\\\n",
    "</body>\\\n",
    "</html>\\\n",
    "'"
   ]
  },
  {
   "cell_type": "code",
   "execution_count": 3,
   "id": "904399c4-16f1-43b4-815d-034e63ef3e9c",
   "metadata": {},
   "outputs": [
    {
     "data": {
      "text/plain": [
       "str"
      ]
     },
     "execution_count": 3,
     "metadata": {},
     "output_type": "execute_result"
    }
   ],
   "source": [
    "type(html)"
   ]
  },
  {
   "cell_type": "code",
   "execution_count": 4,
   "id": "2bad52fb-d032-4293-b500-593297d4b5f3",
   "metadata": {},
   "outputs": [],
   "source": [
    "from bs4 import BeautifulSoup"
   ]
  },
  {
   "cell_type": "code",
   "execution_count": 5,
   "id": "9b108298-bcfd-4df0-b061-af45298b417e",
   "metadata": {},
   "outputs": [],
   "source": [
    "data = BeautifulSoup(html, 'html.parser')  # BeautifulSoup(html_content_string_object, 'parser name')"
   ]
  },
  {
   "cell_type": "code",
   "execution_count": 7,
   "id": "64002f97-f02a-485e-b39f-f8b0a62bd885",
   "metadata": {},
   "outputs": [],
   "source": [
    "# signifies that it is a object of BeautifulSoup pytho library"
   ]
  },
  {
   "cell_type": "code",
   "execution_count": 6,
   "id": "66f15928-3dfb-4da3-8310-594a05fcbfb5",
   "metadata": {},
   "outputs": [
    {
     "data": {
      "text/plain": [
       "bs4.BeautifulSoup"
      ]
     },
     "execution_count": 6,
     "metadata": {},
     "output_type": "execute_result"
    }
   ],
   "source": [
    "type(data)"
   ]
  },
  {
   "cell_type": "code",
   "execution_count": 9,
   "id": "160fecc2-8088-40e1-bb8b-cc8733fff748",
   "metadata": {},
   "outputs": [
    {
     "data": {
      "text/plain": [
       "<!DOCTYPE html>\n",
       "<html lang=\"en\"><head> <meta charset=\"utf-8\"/> <meta content=\"width=device-width, initial-scale=1.0\" name=\"viewport\"/> <title>Sample HTML Page</title></head><body> <p>This is the first paragraph.</p> <p>This is the second paragraph.</p> <p>This is the third paragraph.</p></body></html>"
      ]
     },
     "execution_count": 9,
     "metadata": {},
     "output_type": "execute_result"
    }
   ],
   "source": [
    "data"
   ]
  },
  {
   "cell_type": "code",
   "execution_count": 8,
   "id": "c5053c35-878a-440b-8c11-2d067c86aac5",
   "metadata": {},
   "outputs": [
    {
     "name": "stdout",
     "output_type": "stream",
     "text": [
      "<!DOCTYPE html>\n",
      "<html lang=\"en\">\n",
      " <head>\n",
      "  <meta charset=\"utf-8\"/>\n",
      "  <meta content=\"width=device-width, initial-scale=1.0\" name=\"viewport\"/>\n",
      "  <title>\n",
      "   Sample HTML Page\n",
      "  </title>\n",
      " </head>\n",
      " <body>\n",
      "  <p>\n",
      "   This is the first paragraph.\n",
      "  </p>\n",
      "  <p>\n",
      "   This is the second paragraph.\n",
      "  </p>\n",
      "  <p>\n",
      "   This is the third paragraph.\n",
      "  </p>\n",
      " </body>\n",
      "</html>\n",
      "\n"
     ]
    }
   ],
   "source": [
    "print(data.prettify())"
   ]
  },
  {
   "cell_type": "code",
   "execution_count": 10,
   "id": "7c81b780-2fab-40cb-a334-b94d2d472fad",
   "metadata": {},
   "outputs": [],
   "source": [
    "# Prettify is being used to enhance the readibiliy of the content"
   ]
  },
  {
   "cell_type": "code",
   "execution_count": 11,
   "id": "af398965-90c9-4906-a493-d22756b2a3cf",
   "metadata": {},
   "outputs": [
    {
     "data": {
      "text/plain": [
       "<title>Sample HTML Page</title>"
      ]
     },
     "execution_count": 11,
     "metadata": {},
     "output_type": "execute_result"
    }
   ],
   "source": [
    "# if you want to extract the title of web page just write beautiful_object.tag_name\n",
    "data.title"
   ]
  },
  {
   "cell_type": "code",
   "execution_count": 12,
   "id": "13319f8d-9092-462f-9b7d-a337f845362f",
   "metadata": {},
   "outputs": [
    {
     "data": {
      "text/plain": [
       "<head> <meta charset=\"utf-8\"/> <meta content=\"width=device-width, initial-scale=1.0\" name=\"viewport\"/> <title>Sample HTML Page</title></head>"
      ]
     },
     "execution_count": 12,
     "metadata": {},
     "output_type": "execute_result"
    }
   ],
   "source": [
    "data.head"
   ]
  },
  {
   "cell_type": "code",
   "execution_count": 13,
   "id": "e0cd1ed2-0769-45ed-bcb0-799780c95ceb",
   "metadata": {},
   "outputs": [
    {
     "data": {
      "text/plain": [
       "<p>This is the first paragraph.</p>"
      ]
     },
     "execution_count": 13,
     "metadata": {},
     "output_type": "execute_result"
    }
   ],
   "source": [
    "data.p    # only prints the first p"
   ]
  },
  {
   "cell_type": "code",
   "execution_count": 16,
   "id": "80f0af36-beda-4f59-b287-7bddba25b266",
   "metadata": {},
   "outputs": [
    {
     "name": "stdout",
     "output_type": "stream",
     "text": [
      "<title>Sample HTML Page</title>\n",
      "title\n",
      "Sample HTML Page\n"
     ]
    }
   ],
   "source": [
    "print(data.title)       # returns the complete tag\n",
    "print(data.title.name)   # returns the name of the tag\n",
    "print(data.title.string)  # return the text/content of the tag"
   ]
  },
  {
   "cell_type": "code",
   "execution_count": 17,
   "id": "f94c3ff5-43e4-4819-a671-13f0721be71e",
   "metadata": {},
   "outputs": [
    {
     "name": "stdout",
     "output_type": "stream",
     "text": [
      "<body> <p>This is the first paragraph.</p> <p>This is the second paragraph.</p> <p>This is the third paragraph.</p></body>\n",
      "body\n",
      "None\n"
     ]
    }
   ],
   "source": [
    "print(data.body)\n",
    "print(data.body.name)\n",
    "print(data.body.string)"
   ]
  },
  {
   "cell_type": "code",
   "execution_count": 18,
   "id": "c974ac38-6a5e-445e-9ae2-3b835082af17",
   "metadata": {},
   "outputs": [
    {
     "name": "stdout",
     "output_type": "stream",
     "text": [
      "This is the first paragraph.\n"
     ]
    }
   ],
   "source": [
    "print(data.p.string)"
   ]
  },
  {
   "cell_type": "code",
   "execution_count": 19,
   "id": "98da8bcf-8735-4d6c-9c82-4c29872efbe5",
   "metadata": {},
   "outputs": [
    {
     "name": "stdout",
     "output_type": "stream",
     "text": [
      "None\n"
     ]
    }
   ],
   "source": [
    "print(data.head.string)"
   ]
  },
  {
   "cell_type": "code",
   "execution_count": 20,
   "id": "e9bb21ac-c6c2-4dae-bbfc-a0bf72afc29d",
   "metadata": {},
   "outputs": [],
   "source": [
    "# Another attribute of beautifulSoup object used to get the attributes of tag"
   ]
  },
  {
   "cell_type": "code",
   "execution_count": 21,
   "id": "301266e2-fb24-4666-8137-d1170e942d2c",
   "metadata": {},
   "outputs": [
    {
     "name": "stdout",
     "output_type": "stream",
     "text": [
      "{}\n"
     ]
    }
   ],
   "source": [
    "print(data.p.attrs)"
   ]
  },
  {
   "cell_type": "code",
   "execution_count": 23,
   "id": "a2a67591-6700-413e-a697-ae511b5d49d3",
   "metadata": {},
   "outputs": [],
   "source": [
    "# Because our p tag doesn't have any attributes also note that attributes are returned as dictionary"
   ]
  },
  {
   "cell_type": "code",
   "execution_count": 25,
   "id": "c3a8a25a-8cff-41d9-8ba4-68b0ccc6cdb8",
   "metadata": {},
   "outputs": [
    {
     "data": {
      "text/plain": [
       "'   Sample HTML Page This is the first paragraph. This is the second paragraph. This is the third paragraph.'"
      ]
     },
     "execution_count": 25,
     "metadata": {},
     "output_type": "execute_result"
    }
   ],
   "source": [
    "data.get_text()"
   ]
  },
  {
   "cell_type": "code",
   "execution_count": 26,
   "id": "ba2dc26b-528e-474b-8907-2e4e6397573f",
   "metadata": {},
   "outputs": [],
   "source": [
    "# You can see that by using this method we are getting all the text data from our html document apart from any tags and attributes\n"
   ]
  },
  {
   "cell_type": "code",
   "execution_count": 27,
   "id": "c87b4381-d79d-4a3c-a214-39b6f4bf0438",
   "metadata": {},
   "outputs": [],
   "source": [
    "# Some other methdo and attributes"
   ]
  },
  {
   "cell_type": "code",
   "execution_count": 32,
   "id": "763e2e10-2260-4cb8-98af-d11a3990ee28",
   "metadata": {},
   "outputs": [
    {
     "data": {
      "text/plain": [
       "<p>This is the first paragraph.</p>"
      ]
     },
     "execution_count": 32,
     "metadata": {},
     "output_type": "execute_result"
    }
   ],
   "source": [
    "data.p\n",
    "data.find('p')"
   ]
  },
  {
   "cell_type": "code",
   "execution_count": null,
   "id": "baeef8b0-c0ee-4201-9e9c-481e49aa5961",
   "metadata": {},
   "outputs": [],
   "source": [
    "#  Note that data.tag_name and data.find('') works similarly"
   ]
  },
  {
   "cell_type": "code",
   "execution_count": 33,
   "id": "03a1f8c8-ef9c-4340-9c30-f17065998fee",
   "metadata": {},
   "outputs": [
    {
     "data": {
      "text/plain": [
       "[<p>This is the first paragraph.</p>,\n",
       " <p>This is the second paragraph.</p>,\n",
       " <p>This is the third paragraph.</p>]"
      ]
     },
     "execution_count": 33,
     "metadata": {},
     "output_type": "execute_result"
    }
   ],
   "source": [
    "#  You can see that we have three p tags in our html but we are getting only first one to get all \n",
    "data.find_all('p')"
   ]
  },
  {
   "cell_type": "code",
   "execution_count": 34,
   "id": "13c9c97d-0f45-40b5-b8c4-5ef8c69bf77e",
   "metadata": {},
   "outputs": [],
   "source": [
    "#  by using find_all we are getting the list of all tags"
   ]
  },
  {
   "cell_type": "code",
   "execution_count": 35,
   "id": "b3dbc112-668e-4a8e-9c24-11eeba4acfc3",
   "metadata": {},
   "outputs": [],
   "source": [
    "lst = data.find_all('p')"
   ]
  },
  {
   "cell_type": "code",
   "execution_count": 37,
   "id": "994944df-a28c-4844-870f-b54d31333de0",
   "metadata": {},
   "outputs": [
    {
     "name": "stdout",
     "output_type": "stream",
     "text": [
      "<p>This is the first paragraph.</p>\n",
      "<p>This is the second paragraph.</p>\n",
      "<p>This is the third paragraph.</p>\n"
     ]
    }
   ],
   "source": [
    "# iteration over the lst\n",
    "for i in lst:\n",
    "    print(i)"
   ]
  },
  {
   "cell_type": "code",
   "execution_count": null,
   "id": "c5878f2d-e696-4870-aff0-1d3742c83322",
   "metadata": {},
   "outputs": [],
   "source": []
  },
  {
   "cell_type": "markdown",
   "id": "c2e23dcd-481b-46fa-b494-7f7c5b90d1c1",
   "metadata": {},
   "source": [
    "## Searching Parse Tree using find__all"
   ]
  },
  {
   "cell_type": "code",
   "execution_count": 39,
   "id": "05866147-f2d2-489b-87f8-c0ce18fd6e5f",
   "metadata": {},
   "outputs": [
    {
     "data": {
      "text/plain": [
       "[<p>This is the first paragraph.</p>,\n",
       " <p>This is the second paragraph.</p>,\n",
       " <p>This is the third paragraph.</p>]"
      ]
     },
     "execution_count": 39,
     "metadata": {},
     "output_type": "execute_result"
    }
   ],
   "source": [
    "# find using passing a string\n",
    "data.find_all('p')"
   ]
  },
  {
   "cell_type": "code",
   "execution_count": 40,
   "id": "a0398419-8db6-4f12-bd3c-96a1f4d82d7e",
   "metadata": {},
   "outputs": [
    {
     "data": {
      "text/plain": [
       "[<head> <meta charset=\"utf-8\"/> <meta content=\"width=device-width, initial-scale=1.0\" name=\"viewport\"/> <title>Sample HTML Page</title></head>,\n",
       " <p>This is the first paragraph.</p>,\n",
       " <p>This is the second paragraph.</p>,\n",
       " <p>This is the third paragraph.</p>]"
      ]
     },
     "execution_count": 40,
     "metadata": {},
     "output_type": "execute_result"
    }
   ],
   "source": [
    "# find using passing a list of string\n",
    "data.find_all(['p', 'head'])"
   ]
  },
  {
   "cell_type": "code",
   "execution_count": 41,
   "id": "5eca0ea1-78ef-4b8c-9f4a-c9c686ff2265",
   "metadata": {},
   "outputs": [
    {
     "data": {
      "text/plain": [
       "[<html lang=\"en\"><head> <meta charset=\"utf-8\"/> <meta content=\"width=device-width, initial-scale=1.0\" name=\"viewport\"/> <title>Sample HTML Page</title></head><body> <p>This is the first paragraph.</p> <p>This is the second paragraph.</p> <p>This is the third paragraph.</p></body></html>,\n",
       " <head> <meta charset=\"utf-8\"/> <meta content=\"width=device-width, initial-scale=1.0\" name=\"viewport\"/> <title>Sample HTML Page</title></head>,\n",
       " <meta charset=\"utf-8\"/>,\n",
       " <meta content=\"width=device-width, initial-scale=1.0\" name=\"viewport\"/>,\n",
       " <title>Sample HTML Page</title>,\n",
       " <body> <p>This is the first paragraph.</p> <p>This is the second paragraph.</p> <p>This is the third paragraph.</p></body>,\n",
       " <p>This is the first paragraph.</p>,\n",
       " <p>This is the second paragraph.</p>,\n",
       " <p>This is the third paragraph.</p>]"
      ]
     },
     "execution_count": 41,
     "metadata": {},
     "output_type": "execute_result"
    }
   ],
   "source": [
    "# find all the tags present in the tree\n",
    "data.find_all(True)"
   ]
  },
  {
   "cell_type": "code",
   "execution_count": 42,
   "id": "9d324c26-bcdf-4289-8cfd-7b254854c0ae",
   "metadata": {},
   "outputs": [],
   "source": [
    "# we can also use find_all to search using class and id\n",
    "# also can use search using css selector by using the method data.select('css_selector')"
   ]
  },
  {
   "cell_type": "markdown",
   "id": "771cbb13-4076-4033-9859-c3dd0faadc5e",
   "metadata": {},
   "source": []
  },
  {
   "cell_type": "code",
   "execution_count": null,
   "id": "d4986790-5969-45a5-a1ea-814ce0115d55",
   "metadata": {},
   "outputs": [],
   "source": []
  }
 ],
 "metadata": {
  "kernelspec": {
   "display_name": "Python 3 (ipykernel)",
   "language": "python",
   "name": "python3"
  },
  "language_info": {
   "codemirror_mode": {
    "name": "ipython",
    "version": 3
   },
   "file_extension": ".py",
   "mimetype": "text/x-python",
   "name": "python",
   "nbconvert_exporter": "python",
   "pygments_lexer": "ipython3",
   "version": "3.11.7"
  }
 },
 "nbformat": 4,
 "nbformat_minor": 5
}
