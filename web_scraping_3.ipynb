{
 "cells": [
  {
   "cell_type": "markdown",
   "id": "cdde3069-4367-4692-a59a-669da0aa933a",
   "metadata": {},
   "source": [
    "# Scraping of First website"
   ]
  },
  {
   "cell_type": "code",
   "execution_count": 1,
   "id": "2d6007d9-e95e-4289-9611-ff051adcd2e8",
   "metadata": {},
   "outputs": [],
   "source": [
    "# Importing Libraries\n",
    "import requests\n",
    "from bs4 import BeautifulSoup"
   ]
  },
  {
   "cell_type": "markdown",
   "id": "ec0ad559-f572-4160-8481-1be6d625de5f",
   "metadata": {},
   "source": [
    "## Fist step - Load the HMTL"
   ]
  },
  {
   "cell_type": "code",
   "execution_count": 2,
   "id": "f7431aa3-83cc-420d-87a9-23410d89531f",
   "metadata": {},
   "outputs": [],
   "source": [
    "response = requests.get('https://info.cern.ch/hypertext/WWW/TheProject.html')"
   ]
  },
  {
   "cell_type": "code",
   "execution_count": 3,
   "id": "4837ffd9-36f1-433f-91ea-6d3d7f686e97",
   "metadata": {},
   "outputs": [
    {
     "data": {
      "text/plain": [
       "<Response [200]>"
      ]
     },
     "execution_count": 3,
     "metadata": {},
     "output_type": "execute_result"
    }
   ],
   "source": [
    "response"
   ]
  },
  {
   "cell_type": "code",
   "execution_count": 4,
   "id": "cdeb621d-f51b-4120-97e1-45907305fe7c",
   "metadata": {},
   "outputs": [
    {
     "data": {
      "text/plain": [
       "{'Date': 'Mon, 03 Jun 2024 12:08:47 GMT', 'Server': 'Apache', 'Last-Modified': 'Thu, 03 Dec 1992 08:37:20 GMT', 'ETag': '\"8a9-291e721905000\"', 'Accept-Ranges': 'bytes', 'Content-Length': '2217', 'Connection': 'close', 'Content-Type': 'text/html'}"
      ]
     },
     "execution_count": 4,
     "metadata": {},
     "output_type": "execute_result"
    }
   ],
   "source": [
    "response.headers"
   ]
  },
  {
   "cell_type": "code",
   "execution_count": 5,
   "id": "cbb792cb-e811-4145-b96c-7b8b57863caa",
   "metadata": {},
   "outputs": [],
   "source": [
    "# These headers provide important metadata about the response, such as the content type, content length, server information, and more."
   ]
  },
  {
   "cell_type": "code",
   "execution_count": 6,
   "id": "96aff4d4-7e6f-4e04-a1f6-a9724710e439",
   "metadata": {},
   "outputs": [
    {
     "data": {
      "text/plain": [
       "'<HEADER>\\n<TITLE>The World Wide Web project</TITLE>\\n<NEXTID N=\"55\">\\n</HEADER>\\n<BODY>\\n<H1>World Wide Web</H1>The WorldWideWeb (W3) is a wide-area<A\\nNAME=0 HREF=\"WhatIs.html\">\\nhypermedia</A> information retrieval\\ninitiative aiming to give universal\\naccess to a large universe of documents.<P>\\nEverything there is online about\\nW3 is linked directly or indirectly\\nto this document, including an <A\\nNAME=24 HREF=\"Summary.html\">executive\\nsummary</A> of the project, <A\\nNAME=29 HREF=\"Administration/Mailing/Overview.html\">Mailing lists</A>\\n, <A\\nNAME=30 HREF=\"Policy.html\">Policy</A> , November\\'s  <A\\nNAME=34 HREF=\"News/9211.html\">W3  news</A> ,\\n<A\\nNAME=41 HREF=\"FAQ/List.html\">Frequently Asked Questions</A> .\\n<DL>\\n<DT><A\\nNAME=44 HREF=\"../DataSources/Top.html\">What\\'s out there?</A>\\n<DD> Pointers to the\\nworld\\'s online information,<A\\nNAME=45 HREF=\"../DataSources/bySubject/Overview.html\"> subjects</A>\\n, <A\\nNAME=z54 HREF=\"../DataSources/WWW/Servers.html\">W3 servers</A>, etc.\\n<DT><A\\nNAME=46 HREF=\"Help.html\">Help</A>\\n<DD> on the browser you are using\\n<DT><A\\nNAME=13 HREF=\"Status.html\">Software Products</A>\\n<DD> A list of W3 project\\ncomponents and their current state.\\n(e.g. <A\\nNAME=27 HREF=\"LineMode/Browser.html\">Line Mode</A> ,X11 <A\\nNAME=35 HREF=\"Status.html#35\">Viola</A> ,  <A\\nNAME=26 HREF=\"NeXT/WorldWideWeb.html\">NeXTStep</A>\\n, <A\\nNAME=25 HREF=\"Daemon/Overview.html\">Servers</A> , <A\\nNAME=51 HREF=\"Tools/Overview.html\">Tools</A> ,<A\\nNAME=53 HREF=\"MailRobot/Overview.html\"> Mail robot</A> ,<A\\nNAME=52 HREF=\"Status.html#57\">\\nLibrary</A> )\\n<DT><A\\nNAME=47 HREF=\"Technical.html\">Technical</A>\\n<DD> Details of protocols, formats,\\nprogram internals etc\\n<DT><A\\nNAME=40 HREF=\"Bibliography.html\">Bibliography</A>\\n<DD> Paper documentation\\non  W3 and references.\\n<DT><A\\nNAME=14 HREF=\"People.html\">People</A>\\n<DD> A list of some people involved\\nin the project.\\n<DT><A\\nNAME=15 HREF=\"History.html\">History</A>\\n<DD> A summary of the history\\nof the project.\\n<DT><A\\nNAME=37 HREF=\"Helping.html\">How can I help</A> ?\\n<DD> If you would like\\nto support the web..\\n<DT><A\\nNAME=48 HREF=\"../README.html\">Getting code</A>\\n<DD> Getting the code by<A\\nNAME=49 HREF=\"LineMode/Defaults/Distribution.html\">\\nanonymous FTP</A> , etc.</A>\\n</DL>\\n</BODY>\\n'"
      ]
     },
     "execution_count": 6,
     "metadata": {},
     "output_type": "execute_result"
    }
   ],
   "source": [
    "# The response.text attribute in the requests library contains the content of the response, decoded as a string. \n",
    "response.text"
   ]
  },
  {
   "cell_type": "code",
   "execution_count": 7,
   "id": "86699db0-4dcd-49a3-9184-f9c34c85ddee",
   "metadata": {},
   "outputs": [],
   "source": [
    "html_data = response.text"
   ]
  },
  {
   "cell_type": "markdown",
   "id": "c75643d3-d50d-4cbb-bf8e-ecbb9d32d79a",
   "metadata": {},
   "source": [
    "## Second step - Parse the html content using python library\n"
   ]
  },
  {
   "cell_type": "code",
   "execution_count": 8,
   "id": "0fed8cab-4bd3-4e04-85a9-8b2a0198a6a8",
   "metadata": {},
   "outputs": [],
   "source": [
    "data = BeautifulSoup(html_data, 'html.parser')"
   ]
  },
  {
   "cell_type": "code",
   "execution_count": 9,
   "id": "abaaf815-54cb-43e3-b534-8b9d505d95ff",
   "metadata": {},
   "outputs": [
    {
     "name": "stdout",
     "output_type": "stream",
     "text": [
      "<header>\n",
      "<title>The World Wide Web project</title>\n",
      "<nextid n=\"55\"/>\n",
      "</header>\n",
      "<body>\n",
      "<h1>World Wide Web</h1>The WorldWideWeb (W3) is a wide-area<a href=\"WhatIs.html\" name=\"0\">\n",
      "hypermedia</a> information retrieval\n",
      "initiative aiming to give universal\n",
      "access to a large universe of documents.<p>\n",
      "Everything there is online about\n",
      "W3 is linked directly or indirectly\n",
      "to this document, including an <a href=\"Summary.html\" name=\"24\">executive\n",
      "summary</a> of the project, <a href=\"Administration/Mailing/Overview.html\" name=\"29\">Mailing lists</a>\n",
      ", <a href=\"Policy.html\" name=\"30\">Policy</a> , November's  <a href=\"News/9211.html\" name=\"34\">W3  news</a> ,\n",
      "<a href=\"FAQ/List.html\" name=\"41\">Frequently Asked Questions</a> .\n",
      "<dl>\n",
      "<dt><a href=\"../DataSources/Top.html\" name=\"44\">What's out there?</a>\n",
      "<dd> Pointers to the\n",
      "world's online information,<a href=\"../DataSources/bySubject/Overview.html\" name=\"45\"> subjects</a>\n",
      ", <a href=\"../DataSources/WWW/Servers.html\" name=\"z54\">W3 servers</a>, etc.\n",
      "<dt><a href=\"Help.html\" name=\"46\">Help</a>\n",
      "<dd> on the browser you are using\n",
      "<dt><a href=\"Status.html\" name=\"13\">Software Products</a>\n",
      "<dd> A list of W3 project\n",
      "components and their current state.\n",
      "(e.g. <a href=\"LineMode/Browser.html\" name=\"27\">Line Mode</a> ,X11 <a href=\"Status.html#35\" name=\"35\">Viola</a> ,  <a href=\"NeXT/WorldWideWeb.html\" name=\"26\">NeXTStep</a>\n",
      ", <a href=\"Daemon/Overview.html\" name=\"25\">Servers</a> , <a href=\"Tools/Overview.html\" name=\"51\">Tools</a> ,<a href=\"MailRobot/Overview.html\" name=\"53\"> Mail robot</a> ,<a href=\"Status.html#57\" name=\"52\">\n",
      "Library</a> )\n",
      "<dt><a href=\"Technical.html\" name=\"47\">Technical</a>\n",
      "<dd> Details of protocols, formats,\n",
      "program internals etc\n",
      "<dt><a href=\"Bibliography.html\" name=\"40\">Bibliography</a>\n",
      "<dd> Paper documentation\n",
      "on  W3 and references.\n",
      "<dt><a href=\"People.html\" name=\"14\">People</a>\n",
      "<dd> A list of some people involved\n",
      "in the project.\n",
      "<dt><a href=\"History.html\" name=\"15\">History</a>\n",
      "<dd> A summary of the history\n",
      "of the project.\n",
      "<dt><a href=\"Helping.html\" name=\"37\">How can I help</a> ?\n",
      "<dd> If you would like\n",
      "to support the web..\n",
      "<dt><a href=\"../README.html\" name=\"48\">Getting code</a>\n",
      "<dd> Getting the code by<a href=\"LineMode/Defaults/Distribution.html\" name=\"49\">\n",
      "anonymous FTP</a> , etc.\n",
      "</dd></dt></dd></dt></dd></dt></dd></dt></dd></dt></dd></dt></dd></dt></dd></dt></dd></dt></dl>\n",
      "</p></body>\n",
      "\n"
     ]
    }
   ],
   "source": [
    "print(data)"
   ]
  },
  {
   "cell_type": "code",
   "execution_count": 10,
   "id": "5ead6230-5cc7-4c97-bea9-5cea4ac6f7e6",
   "metadata": {},
   "outputs": [
    {
     "name": "stdout",
     "output_type": "stream",
     "text": [
      "<header>\n",
      " <title>\n",
      "  The World Wide Web project\n",
      " </title>\n",
      " <nextid n=\"55\"/>\n",
      "</header>\n",
      "<body>\n",
      " <h1>\n",
      "  World Wide Web\n",
      " </h1>\n",
      " The WorldWideWeb (W3) is a wide-area\n",
      " <a href=\"WhatIs.html\" name=\"0\">\n",
      "  hypermedia\n",
      " </a>\n",
      " information retrieval\n",
      "initiative aiming to give universal\n",
      "access to a large universe of documents.\n",
      " <p>\n",
      "  Everything there is online about\n",
      "W3 is linked directly or indirectly\n",
      "to this document, including an\n",
      "  <a href=\"Summary.html\" name=\"24\">\n",
      "   executive\n",
      "summary\n",
      "  </a>\n",
      "  of the project,\n",
      "  <a href=\"Administration/Mailing/Overview.html\" name=\"29\">\n",
      "   Mailing lists\n",
      "  </a>\n",
      "  ,\n",
      "  <a href=\"Policy.html\" name=\"30\">\n",
      "   Policy\n",
      "  </a>\n",
      "  , November's\n",
      "  <a href=\"News/9211.html\" name=\"34\">\n",
      "   W3  news\n",
      "  </a>\n",
      "  ,\n",
      "  <a href=\"FAQ/List.html\" name=\"41\">\n",
      "   Frequently Asked Questions\n",
      "  </a>\n",
      "  .\n",
      "  <dl>\n",
      "   <dt>\n",
      "    <a href=\"../DataSources/Top.html\" name=\"44\">\n",
      "     What's out there?\n",
      "    </a>\n",
      "    <dd>\n",
      "     Pointers to the\n",
      "world's online information,\n",
      "     <a href=\"../DataSources/bySubject/Overview.html\" name=\"45\">\n",
      "      subjects\n",
      "     </a>\n",
      "     ,\n",
      "     <a href=\"../DataSources/WWW/Servers.html\" name=\"z54\">\n",
      "      W3 servers\n",
      "     </a>\n",
      "     , etc.\n",
      "     <dt>\n",
      "      <a href=\"Help.html\" name=\"46\">\n",
      "       Help\n",
      "      </a>\n",
      "      <dd>\n",
      "       on the browser you are using\n",
      "       <dt>\n",
      "        <a href=\"Status.html\" name=\"13\">\n",
      "         Software Products\n",
      "        </a>\n",
      "        <dd>\n",
      "         A list of W3 project\n",
      "components and their current state.\n",
      "(e.g.\n",
      "         <a href=\"LineMode/Browser.html\" name=\"27\">\n",
      "          Line Mode\n",
      "         </a>\n",
      "         ,X11\n",
      "         <a href=\"Status.html#35\" name=\"35\">\n",
      "          Viola\n",
      "         </a>\n",
      "         ,\n",
      "         <a href=\"NeXT/WorldWideWeb.html\" name=\"26\">\n",
      "          NeXTStep\n",
      "         </a>\n",
      "         ,\n",
      "         <a href=\"Daemon/Overview.html\" name=\"25\">\n",
      "          Servers\n",
      "         </a>\n",
      "         ,\n",
      "         <a href=\"Tools/Overview.html\" name=\"51\">\n",
      "          Tools\n",
      "         </a>\n",
      "         ,\n",
      "         <a href=\"MailRobot/Overview.html\" name=\"53\">\n",
      "          Mail robot\n",
      "         </a>\n",
      "         ,\n",
      "         <a href=\"Status.html#57\" name=\"52\">\n",
      "          Library\n",
      "         </a>\n",
      "         )\n",
      "         <dt>\n",
      "          <a href=\"Technical.html\" name=\"47\">\n",
      "           Technical\n",
      "          </a>\n",
      "          <dd>\n",
      "           Details of protocols, formats,\n",
      "program internals etc\n",
      "           <dt>\n",
      "            <a href=\"Bibliography.html\" name=\"40\">\n",
      "             Bibliography\n",
      "            </a>\n",
      "            <dd>\n",
      "             Paper documentation\n",
      "on  W3 and references.\n",
      "             <dt>\n",
      "              <a href=\"People.html\" name=\"14\">\n",
      "               People\n",
      "              </a>\n",
      "              <dd>\n",
      "               A list of some people involved\n",
      "in the project.\n",
      "               <dt>\n",
      "                <a href=\"History.html\" name=\"15\">\n",
      "                 History\n",
      "                </a>\n",
      "                <dd>\n",
      "                 A summary of the history\n",
      "of the project.\n",
      "                 <dt>\n",
      "                  <a href=\"Helping.html\" name=\"37\">\n",
      "                   How can I help\n",
      "                  </a>\n",
      "                  ?\n",
      "                  <dd>\n",
      "                   If you would like\n",
      "to support the web..\n",
      "                   <dt>\n",
      "                    <a href=\"../README.html\" name=\"48\">\n",
      "                     Getting code\n",
      "                    </a>\n",
      "                    <dd>\n",
      "                     Getting the code by\n",
      "                     <a href=\"LineMode/Defaults/Distribution.html\" name=\"49\">\n",
      "                      anonymous FTP\n",
      "                     </a>\n",
      "                     , etc.\n",
      "                    </dd>\n",
      "                   </dt>\n",
      "                  </dd>\n",
      "                 </dt>\n",
      "                </dd>\n",
      "               </dt>\n",
      "              </dd>\n",
      "             </dt>\n",
      "            </dd>\n",
      "           </dt>\n",
      "          </dd>\n",
      "         </dt>\n",
      "        </dd>\n",
      "       </dt>\n",
      "      </dd>\n",
      "     </dt>\n",
      "    </dd>\n",
      "   </dt>\n",
      "  </dl>\n",
      " </p>\n",
      "</body>\n",
      "\n"
     ]
    }
   ],
   "source": [
    "# we can use prettify method to better visualize the html content\n",
    "print(data.prettify())"
   ]
  },
  {
   "cell_type": "markdown",
   "id": "e70125f2-1f4f-4168-a299-1e8e4128606b",
   "metadata": {},
   "source": [
    "## Third step - Locate and extract the desired data\n"
   ]
  },
  {
   "cell_type": "code",
   "execution_count": 12,
   "id": "dac5d305-fb8f-4984-ac4a-2a667b28e2ec",
   "metadata": {},
   "outputs": [
    {
     "data": {
      "text/plain": [
       "<h1>World Wide Web</h1>"
      ]
     },
     "execution_count": 12,
     "metadata": {},
     "output_type": "execute_result"
    }
   ],
   "source": [
    "# locating the title\n",
    "data.h1"
   ]
  },
  {
   "cell_type": "code",
   "execution_count": 13,
   "id": "1576244c-8d3e-4db9-97d6-3189e524614a",
   "metadata": {},
   "outputs": [
    {
     "data": {
      "text/plain": [
       "'World Wide Web'"
      ]
     },
     "execution_count": 13,
     "metadata": {},
     "output_type": "execute_result"
    }
   ],
   "source": [
    "data.h1.string"
   ]
  },
  {
   "cell_type": "code",
   "execution_count": 14,
   "id": "6032c608-4e89-451f-96f8-efd43e0c0bc7",
   "metadata": {},
   "outputs": [
    {
     "data": {
      "text/plain": [
       "<title>The World Wide Web project</title>"
      ]
     },
     "execution_count": 14,
     "metadata": {},
     "output_type": "execute_result"
    }
   ],
   "source": [
    "data.title"
   ]
  },
  {
   "cell_type": "code",
   "execution_count": 15,
   "id": "aaa63a95-7d48-4451-a58d-5e3deda0f7b5",
   "metadata": {},
   "outputs": [
    {
     "data": {
      "text/plain": [
       "'The World Wide Web project'"
      ]
     },
     "execution_count": 15,
     "metadata": {},
     "output_type": "execute_result"
    }
   ],
   "source": [
    "data.title.string"
   ]
  },
  {
   "cell_type": "code",
   "execution_count": 16,
   "id": "dde6ab87-d3c2-455a-be41-83ff35fa5396",
   "metadata": {},
   "outputs": [
    {
     "data": {
      "text/plain": [
       "\"\\nThe World Wide Web project\\n\\n\\n\\nWorld Wide WebThe WorldWideWeb (W3) is a wide-area\\nhypermedia information retrieval\\ninitiative aiming to give universal\\naccess to a large universe of documents.\\nEverything there is online about\\nW3 is linked directly or indirectly\\nto this document, including an executive\\nsummary of the project, Mailing lists\\n, Policy , November's  W3  news ,\\nFrequently Asked Questions .\\n\\nWhat's out there?\\n Pointers to the\\nworld's online information, subjects\\n, W3 servers, etc.\\nHelp\\n on the browser you are using\\nSoftware Products\\n A list of W3 project\\ncomponents and their current state.\\n(e.g. Line Mode ,X11 Viola ,  NeXTStep\\n, Servers , Tools , Mail robot ,\\nLibrary )\\nTechnical\\n Details of protocols, formats,\\nprogram internals etc\\nBibliography\\n Paper documentation\\non  W3 and references.\\nPeople\\n A list of some people involved\\nin the project.\\nHistory\\n A summary of the history\\nof the project.\\nHow can I help ?\\n If you would like\\nto support the web..\\nGetting code\\n Getting the code by\\nanonymous FTP , etc.\\n\\n\\n\""
      ]
     },
     "execution_count": 16,
     "metadata": {},
     "output_type": "execute_result"
    }
   ],
   "source": [
    "# getting complete text from the webpage\n",
    "data.get_text()"
   ]
  },
  {
   "cell_type": "code",
   "execution_count": 17,
   "id": "11c9fb82-72b1-46e9-8b2a-16e1df959d7a",
   "metadata": {},
   "outputs": [
    {
     "name": "stdout",
     "output_type": "stream",
     "text": [
      "\n",
      "The World Wide Web project\n",
      "\n",
      "\n",
      "\n",
      "World Wide WebThe WorldWideWeb (W3) is a wide-area\n",
      "hypermedia information retrieval\n",
      "initiative aiming to give universal\n",
      "access to a large universe of documents.\n",
      "Everything there is online about\n",
      "W3 is linked directly or indirectly\n",
      "to this document, including an executive\n",
      "summary of the project, Mailing lists\n",
      ", Policy , November's  W3  news ,\n",
      "Frequently Asked Questions .\n",
      "\n",
      "What's out there?\n",
      " Pointers to the\n",
      "world's online information, subjects\n",
      ", W3 servers, etc.\n",
      "Help\n",
      " on the browser you are using\n",
      "Software Products\n",
      " A list of W3 project\n",
      "components and their current state.\n",
      "(e.g. Line Mode ,X11 Viola ,  NeXTStep\n",
      ", Servers , Tools , Mail robot ,\n",
      "Library )\n",
      "Technical\n",
      " Details of protocols, formats,\n",
      "program internals etc\n",
      "Bibliography\n",
      " Paper documentation\n",
      "on  W3 and references.\n",
      "People\n",
      " A list of some people involved\n",
      "in the project.\n",
      "History\n",
      " A summary of the history\n",
      "of the project.\n",
      "How can I help ?\n",
      " If you would like\n",
      "to support the web..\n",
      "Getting code\n",
      " Getting the code by\n",
      "anonymous FTP , etc.\n",
      "\n",
      "\n",
      "\n"
     ]
    }
   ],
   "source": [
    "# to better visualize put it inside print function\n",
    "print(data.get_text())"
   ]
  },
  {
   "cell_type": "markdown",
   "id": "fef2cdfc-48fe-476d-ab9f-51f3481fadf4",
   "metadata": {},
   "source": [
    "## extracting all hyperlinks from the webpage"
   ]
  },
  {
   "cell_type": "code",
   "execution_count": 18,
   "id": "20e1d59c-2bbe-42cb-8940-5c9535307e5d",
   "metadata": {},
   "outputs": [
    {
     "data": {
      "text/plain": [
       "<a href=\"WhatIs.html\" name=\"0\">\n",
       "hypermedia</a>"
      ]
     },
     "execution_count": 18,
     "metadata": {},
     "output_type": "execute_result"
    }
   ],
   "source": [
    "# getting the first hyperlink from website\n",
    "data.a"
   ]
  },
  {
   "cell_type": "code",
   "execution_count": 19,
   "id": "35a02e97-0678-4b93-9a7e-571c81b93e9b",
   "metadata": {},
   "outputs": [
    {
     "data": {
      "text/plain": [
       "'WhatIs.html'"
      ]
     },
     "execution_count": 19,
     "metadata": {},
     "output_type": "execute_result"
    }
   ],
   "source": [
    "# value of first hyperlink\n",
    "data.a['href']"
   ]
  },
  {
   "cell_type": "code",
   "execution_count": 21,
   "id": "097a90d1-8383-40a2-9afc-f464e9813f9e",
   "metadata": {},
   "outputs": [],
   "source": [
    "# getting all hyperlinks using find_all as list\n",
    "lst = data.find_all('a')"
   ]
  },
  {
   "cell_type": "code",
   "execution_count": 22,
   "id": "4b62ada2-fab1-4c05-9c5a-71c6b0d00772",
   "metadata": {},
   "outputs": [
    {
     "name": "stdout",
     "output_type": "stream",
     "text": [
      "[<a href=\"WhatIs.html\" name=\"0\">\n",
      "hypermedia</a>, <a href=\"Summary.html\" name=\"24\">executive\n",
      "summary</a>, <a href=\"Administration/Mailing/Overview.html\" name=\"29\">Mailing lists</a>, <a href=\"Policy.html\" name=\"30\">Policy</a>, <a href=\"News/9211.html\" name=\"34\">W3  news</a>, <a href=\"FAQ/List.html\" name=\"41\">Frequently Asked Questions</a>, <a href=\"../DataSources/Top.html\" name=\"44\">What's out there?</a>, <a href=\"../DataSources/bySubject/Overview.html\" name=\"45\"> subjects</a>, <a href=\"../DataSources/WWW/Servers.html\" name=\"z54\">W3 servers</a>, <a href=\"Help.html\" name=\"46\">Help</a>, <a href=\"Status.html\" name=\"13\">Software Products</a>, <a href=\"LineMode/Browser.html\" name=\"27\">Line Mode</a>, <a href=\"Status.html#35\" name=\"35\">Viola</a>, <a href=\"NeXT/WorldWideWeb.html\" name=\"26\">NeXTStep</a>, <a href=\"Daemon/Overview.html\" name=\"25\">Servers</a>, <a href=\"Tools/Overview.html\" name=\"51\">Tools</a>, <a href=\"MailRobot/Overview.html\" name=\"53\"> Mail robot</a>, <a href=\"Status.html#57\" name=\"52\">\n",
      "Library</a>, <a href=\"Technical.html\" name=\"47\">Technical</a>, <a href=\"Bibliography.html\" name=\"40\">Bibliography</a>, <a href=\"People.html\" name=\"14\">People</a>, <a href=\"History.html\" name=\"15\">History</a>, <a href=\"Helping.html\" name=\"37\">How can I help</a>, <a href=\"../README.html\" name=\"48\">Getting code</a>, <a href=\"LineMode/Defaults/Distribution.html\" name=\"49\">\n",
      "anonymous FTP</a>]\n",
      "25\n"
     ]
    }
   ],
   "source": [
    "print(lst)\n",
    "print(len(lst))"
   ]
  },
  {
   "cell_type": "code",
   "execution_count": 23,
   "id": "12206191-7d6f-4cee-8c1b-76ffb0d572bf",
   "metadata": {},
   "outputs": [
    {
     "name": "stdout",
     "output_type": "stream",
     "text": [
      "<a href=\"WhatIs.html\" name=\"0\">\n",
      "hypermedia</a>\n",
      "<a href=\"Summary.html\" name=\"24\">executive\n",
      "summary</a>\n",
      "<a href=\"Administration/Mailing/Overview.html\" name=\"29\">Mailing lists</a>\n",
      "<a href=\"Policy.html\" name=\"30\">Policy</a>\n",
      "<a href=\"News/9211.html\" name=\"34\">W3  news</a>\n",
      "<a href=\"FAQ/List.html\" name=\"41\">Frequently Asked Questions</a>\n",
      "<a href=\"../DataSources/Top.html\" name=\"44\">What's out there?</a>\n",
      "<a href=\"../DataSources/bySubject/Overview.html\" name=\"45\"> subjects</a>\n",
      "<a href=\"../DataSources/WWW/Servers.html\" name=\"z54\">W3 servers</a>\n",
      "<a href=\"Help.html\" name=\"46\">Help</a>\n",
      "<a href=\"Status.html\" name=\"13\">Software Products</a>\n",
      "<a href=\"LineMode/Browser.html\" name=\"27\">Line Mode</a>\n",
      "<a href=\"Status.html#35\" name=\"35\">Viola</a>\n",
      "<a href=\"NeXT/WorldWideWeb.html\" name=\"26\">NeXTStep</a>\n",
      "<a href=\"Daemon/Overview.html\" name=\"25\">Servers</a>\n",
      "<a href=\"Tools/Overview.html\" name=\"51\">Tools</a>\n",
      "<a href=\"MailRobot/Overview.html\" name=\"53\"> Mail robot</a>\n",
      "<a href=\"Status.html#57\" name=\"52\">\n",
      "Library</a>\n",
      "<a href=\"Technical.html\" name=\"47\">Technical</a>\n",
      "<a href=\"Bibliography.html\" name=\"40\">Bibliography</a>\n",
      "<a href=\"People.html\" name=\"14\">People</a>\n",
      "<a href=\"History.html\" name=\"15\">History</a>\n",
      "<a href=\"Helping.html\" name=\"37\">How can I help</a>\n",
      "<a href=\"../README.html\" name=\"48\">Getting code</a>\n",
      "<a href=\"LineMode/Defaults/Distribution.html\" name=\"49\">\n",
      "anonymous FTP</a>\n"
     ]
    }
   ],
   "source": [
    "for i in lst:\n",
    "    print(i)"
   ]
  },
  {
   "cell_type": "code",
   "execution_count": 25,
   "id": "0190fde6-3e8c-4a4a-986e-4abb19ad5cd3",
   "metadata": {},
   "outputs": [
    {
     "name": "stdout",
     "output_type": "stream",
     "text": [
      "\n",
      "hypermedia\n",
      "executive\n",
      "summary\n",
      "Mailing lists\n",
      "Policy\n",
      "W3  news\n",
      "Frequently Asked Questions\n",
      "What's out there?\n",
      " subjects\n",
      "W3 servers\n",
      "Help\n",
      "Software Products\n",
      "Line Mode\n",
      "Viola\n",
      "NeXTStep\n",
      "Servers\n",
      "Tools\n",
      " Mail robot\n",
      "\n",
      "Library\n",
      "Technical\n",
      "Bibliography\n",
      "People\n",
      "History\n",
      "How can I help\n",
      "Getting code\n",
      "\n",
      "anonymous FTP\n"
     ]
    }
   ],
   "source": [
    "for i in lst: \n",
    "    print(i.string)"
   ]
  },
  {
   "cell_type": "code",
   "execution_count": 27,
   "id": "3060cbea-7722-4268-9891-ac6f7f31a7d8",
   "metadata": {},
   "outputs": [
    {
     "name": "stdout",
     "output_type": "stream",
     "text": [
      "WhatIs.html\n",
      "WhatIs.html\n",
      "WhatIs.html\n",
      "WhatIs.html\n",
      "WhatIs.html\n",
      "WhatIs.html\n",
      "WhatIs.html\n",
      "WhatIs.html\n",
      "WhatIs.html\n",
      "WhatIs.html\n",
      "WhatIs.html\n",
      "WhatIs.html\n",
      "WhatIs.html\n",
      "WhatIs.html\n",
      "WhatIs.html\n",
      "WhatIs.html\n",
      "WhatIs.html\n",
      "WhatIs.html\n",
      "WhatIs.html\n",
      "WhatIs.html\n",
      "WhatIs.html\n",
      "WhatIs.html\n",
      "WhatIs.html\n",
      "WhatIs.html\n",
      "WhatIs.html\n"
     ]
    }
   ],
   "source": [
    "for i in lst:\n",
    "    print(data.a['href'])"
   ]
  },
  {
   "cell_type": "markdown",
   "id": "6c531e78-e1bc-4217-9987-0443759465c6",
   "metadata": {},
   "source": [
    "## Extracting all hyperlinks of a particular section"
   ]
  },
  {
   "cell_type": "code",
   "execution_count": 31,
   "id": "99d82b02-ab55-422a-8745-f616d8840c7e",
   "metadata": {},
   "outputs": [],
   "source": [
    "lst_2 = data.dl.find_all('a')"
   ]
  },
  {
   "cell_type": "code",
   "execution_count": 32,
   "id": "4398b48d-9900-4510-8600-b6d01dacd307",
   "metadata": {},
   "outputs": [
    {
     "name": "stdout",
     "output_type": "stream",
     "text": [
      "[<a href=\"../DataSources/Top.html\" name=\"44\">What's out there?</a>, <a href=\"../DataSources/bySubject/Overview.html\" name=\"45\"> subjects</a>, <a href=\"../DataSources/WWW/Servers.html\" name=\"z54\">W3 servers</a>, <a href=\"Help.html\" name=\"46\">Help</a>, <a href=\"Status.html\" name=\"13\">Software Products</a>, <a href=\"LineMode/Browser.html\" name=\"27\">Line Mode</a>, <a href=\"Status.html#35\" name=\"35\">Viola</a>, <a href=\"NeXT/WorldWideWeb.html\" name=\"26\">NeXTStep</a>, <a href=\"Daemon/Overview.html\" name=\"25\">Servers</a>, <a href=\"Tools/Overview.html\" name=\"51\">Tools</a>, <a href=\"MailRobot/Overview.html\" name=\"53\"> Mail robot</a>, <a href=\"Status.html#57\" name=\"52\">\n",
      "Library</a>, <a href=\"Technical.html\" name=\"47\">Technical</a>, <a href=\"Bibliography.html\" name=\"40\">Bibliography</a>, <a href=\"People.html\" name=\"14\">People</a>, <a href=\"History.html\" name=\"15\">History</a>, <a href=\"Helping.html\" name=\"37\">How can I help</a>, <a href=\"../README.html\" name=\"48\">Getting code</a>, <a href=\"LineMode/Defaults/Distribution.html\" name=\"49\">\n",
      "anonymous FTP</a>]\n",
      "19\n"
     ]
    }
   ],
   "source": [
    "print(lst_2)\n",
    "print(len(lst_2))"
   ]
  },
  {
   "cell_type": "code",
   "execution_count": null,
   "id": "201fdb33-7a3d-41ad-b9b6-130c0af53096",
   "metadata": {},
   "outputs": [],
   "source": []
  }
 ],
 "metadata": {
  "kernelspec": {
   "display_name": "Python 3 (ipykernel)",
   "language": "python",
   "name": "python3"
  },
  "language_info": {
   "codemirror_mode": {
    "name": "ipython",
    "version": 3
   },
   "file_extension": ".py",
   "mimetype": "text/x-python",
   "name": "python",
   "nbconvert_exporter": "python",
   "pygments_lexer": "ipython3",
   "version": "3.11.7"
  }
 },
 "nbformat": 4,
 "nbformat_minor": 5
}
